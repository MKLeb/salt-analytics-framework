{
 "cells": [
  {
   "cell_type": "code",
   "execution_count": null,
   "metadata": {
    "tags": [
     "parameters"
    ]
   },
   "outputs": [],
   "source": [
    "x_path = None\n",
    "y_path = None\n",
    "model_path = None"
   ]
  },
  {
   "cell_type": "code",
   "execution_count": null,
   "metadata": {},
   "outputs": [],
   "source": [
    "# Normalize the data\n",
    "import numpy as np\n",
    "from tensorflow import keras\n",
    "with open(x_path, \"rb\") as xf:\n",
    "    x_test = np.load(xf)\n",
    "with open(y_path, \"rb\") as yf:\n",
    "    y_test = np.load(yf)\n",
    "x_test = np.asarray([x_test])\n",
    "y_test = np.asarray([y_test])"
   ]
  },
  {
   "cell_type": "code",
   "execution_count": null,
   "metadata": {
    "format": "application/json",
    "tags": [
     "output"
    ]
   },
   "outputs": [],
   "source": [
    "# Load the model and evaluate it\n",
    "model = keras.models.load_model(model_path)\n",
    "model.evaluate(x_test, y_test)"
   ]
  }
 ],
 "metadata": {
  "kernelspec": {
   "display_name": "aether",
   "language": "python",
   "name": "python3"
  },
  "language_info": {
   "codemirror_mode": {
    "name": "ipython",
    "version": 3
   },
   "file_extension": ".py",
   "mimetype": "text/x-python",
   "name": "python",
   "nbconvert_exporter": "python",
   "pygments_lexer": "ipython3",
   "version": "3.10.8"
  },
  "orig_nbformat": 4
 },
 "nbformat": 4,
 "nbformat_minor": 2
}
